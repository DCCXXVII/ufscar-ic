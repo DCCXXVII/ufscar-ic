{
 "cells": [
  {
   "cell_type": "markdown",
   "metadata": {},
   "source": [
    "# Topological K-means"
   ]
  },
  {
   "cell_type": "markdown",
   "metadata": {},
   "source": [
    "#### Importing libraries"
   ]
  },
  {
   "cell_type": "code",
   "execution_count": 3,
   "metadata": {},
   "outputs": [],
   "source": [
    "import numpy as np # Linear algebra\n",
    "import pandas as pd # Data processing\n",
    "import matplotlib.pyplot as plt # Data visualization\n",
    "import seaborn as sns # Data visualization\n",
    "import networkx as nx # Graph analysis and manipulation\n",
    "\n",
    "from numpy import dot\n",
    "from numpy import trace\n",
    "from numpy.linalg import inv\n",
    "import scipy.sparse._csr\n",
    "%matplotlib inline\n",
    "\n",
    "\n",
    "import sklearn.datasets as skdata\n",
    "import sklearn.neighbors as sknn\n",
    "import sklearn.utils.graph as sksp\n",
    "from sklearn import preprocessing\n",
    "from sklearn.cluster import KMeans\n",
    "from sklearn.metrics.cluster import rand_score\n",
    "from sklearn.metrics.cluster import silhouette_score\n",
    "from sklearn.metrics.cluster import adjusted_mutual_info_score\n",
    "from sklearn.metrics.cluster import calinski_harabasz_score\n",
    "from sklearn.metrics.cluster import fowlkes_mallows_score\n",
    "from sklearn.metrics.cluster import davies_bouldin_score\n",
    "\n",
    "import sys\n",
    "import time\n",
    "import warnings\n",
    "warnings.simplefilter(action='ignore')"
   ]
  },
  {
   "cell_type": "markdown",
   "metadata": {},
   "source": [
    "#### Importing dataset"
   ]
  },
  {
   "cell_type": "code",
   "execution_count": 4,
   "metadata": {},
   "outputs": [],
   "source": [
    "### Scikit-learn datasets\n",
    "\n",
    "# X = skdata.fetch_openml(name='penguins', version=1)                     # (344, 6)      \n",
    "# X = skdata.load_iris()                                                  # (150, 4)      \n",
    "# X = skdata.fetch_openml(name='segment', version=2)                      # (2310, 19)   \n",
    "# X = skdata.fetch_openml(name='amazon-commerce-reviews', version=1)      # (1500, 10000) \n",
    "# X = skdata.fetch_openml(name='semeion', version=1)                      # (1593, 256)   \n",
    "# X = skdata.fetch_openml(name='mfeat-pixel', version=3)                  # (2000, 240)  \n",
    "# X = skdata.fetch_openml(name='micro-mass', version=1)                   # (360, 1300)   \n",
    "# X = skdata.fetch_openml(name='monks-problems-1', version=1)             # (556, 6)      \n",
    "# X = skdata.fetch_openml(name='breast-tissue', version=1)                # (106, 9)   \n",
    "# X = skdata.fetch_openml(name='fri_c2_100_10', version=2)                # (100, 10)   \n",
    "# X = skdata.fetch_openml(name='datatrieve', version=1)                   # (130, 8)  \n",
    "# X = skdata.fetch_openml(name='fri_c3_250_25', version=2)                # (250, 25)   \n",
    "# X = skdata.fetch_openml(name='cnae-9', version=2)                       # (240, 856)  \n",
    "# X = skdata.fetch_openml(name='oh5.wc', version=1)                       # (918, 3012)   \n",
    "#X = skdata.fetch_openml(name='GCM', version=1)                          # (190, 16063)\n",
    "# X = skdata.fetch_openml(name='collins', version=2)                      # (500, 22)   \n",
    "# X = skdata.fetch_openml(name='pyrim', version=2)                        # (74, 27)      \n",
    "# X = skdata.fetch_openml(name='balance-scale', version=1)                # (625, 4)      \n",
    "# X = skdata.fetch_openml(name='tr45.wc', version=1)                      # (690, 8261)\n",
    "# X = skdata.fetch_openml(name='cloud', version=2)                        # (108, 7)     \n",
    "# X = skdata.fetch_openml(name='servo', version=1)                        # (167, 4)      \n",
    "# X = skdata.fetch_openml(name='AP_Breast_Lung', version=1)               # (470, 10935)  \n",
    "# X = skdata.fetch_openml(name='leukemia', version=1)                     # (72, 7129)    \n",
    "X = skdata.fetch_openml(name='AP_Colon_Prostate', version=1)            \n",
    "# X = skdata.fetch_openml(name='AP_Colon_Kidney', version=1)                   \n",
    "# X = skdata.fetch_openml(name='AP_Breast_Kidney', version=1)\n",
    "# X = skdata.fetch_openml(name='AP_Breast_Ovary', version=1)\n",
    "# X = skdata.fetch_openml(name='AP_Breast_Colon', version=1)   \n",
    "# X = skdata.fetch_openml(name='AP_Breast_Lung', version=1)        \n",
    "# X = skdata.fetch_openml(name='AP_Endometrium_Breast', version=1)        \n",
    "# X = skdata.fetch_openml(name='AP_Colon_Omentum', version=1)        \n",
    "# X = skdata.fetch_openml(name='AP_Breast_Omentum', version=1)        \n",
    "# X = skdata.fetch_openml(name='AP_Prostate_Kidney', version=1)        \n",
    "# X = skdata.fetch_openml(name='AP_Omentum_Kidney', version=1)        \n",
    "# X = skdata.fetch_openml(name='AP_Breast_Prostate', version=1)\n",
    "# X = skdata.fetch_openml(name='AP_Uterus_Kidney', version=1)\n",
    "# X = skdata.fetch_openml(name='AP_Prostate_Uterus', version=1)\n",
    "# X = skdata.fetch_openml(name='AP_Omentum_Lung', version=1)\n",
    "# X = skdata.fetch_openml(name='AP_Lung_Uterus', version=1)\n",
    "# X = skdata.fetch_openml(name='AP_Ovary_Kidney', version=1)\n",
    "# X = skdata.fetch_openml(name='AP_Lung_Kidney', version=1)\n",
    "# X = skdata.fetch_openml(name='AP_Colon_Lung', version=1)\n",
    "# X = skdata.fetch_openml(name='AP_Endometrium_Colon', version=1)\n",
    "# X = skdata.fetch_openml(name='AP_Ovary_Lung', version=1)\n",
    "# X = skdata.fetch_openml(name='AP_Endometrium_Kidney', version=1)\n",
    "# X = skdata.fetch_openml(name='AP_Colon_Uterus', version=1)\n",
    "# X = skdata.fetch_openml(name='leukemia', version=1)                \n",
    "# X = skdata.fetch_openml(name='tr11.wc', version=1)\n",
    "# X = skdata.fetch_openml(name='tr12.wc', version=1)\n",
    "# X = skdata.fetch_openml(name='tr45.wc', version=1)\n",
    "# X = skdata.fetch_openml(name='tr23.wc', version=1)\n",
    "# X = skdata.fetch_openml(name='tr21.wc', version=1)\n",
    "# X = skdata.fetch_openml(name='tr31.wc', version=1)\n",
    "# X = skdata.fetch_openml(name='hepatitisC', version=1)\n",
    "# X = skdata.fetch_openml(name='Ovarian', version=1)\n",
    "# X = skdata.fetch_openml(name='SRBCT', version=1)\n",
    "# X = skdata.fetch_openml(name='Colon', version=1)\n",
    "# X = skdata.fetch_openml(name='cloud', version=2)              \n",
    "# X = skdata.fetch_openml(name='servo', version=1)        \n",
    "# X = skdata.fetch_openml(name='climate-model-simulation-crashes', version=1)\n",
    "# X = skdata.fetch_openml(name='anneal', version=1)\n",
    "# X = skdata.fetch_openml(name='pasture', version=2)\n",
    "# X = skdata.fetch_openml(name='analcatdata_authorship', version=2)\n",
    "# X = skdata.fetch_openml(name='stock', version=2)\n",
    "# X = skdata.fetch_openml(name='glass', version=2)\n",
    "# X = skdata.fetch_openml(name='lowbwt', version=2)\n",
    "# X = skdata.fetch_openml(name='kc1-binary', version=1)\n",
    "# X = skdata.fetch_openml(name='analcatdata_marketing', version=2)\n",
    "# X = skdata.fetch_openml(name='boston', version=2)\n",
    "# X = skdata.fetch_openml(name='dermatology', version=2)\n",
    "# X = skdata.fetch_openml(name='backache', version=1)\n",
    "# X = skdata.fetch_openml(name='lsvt', version=1)\n",
    "# X = skdata.fetch_openml(name='thoracic-surgery', version=1)\n",
    "# X = skdata.fetch_openml(name='planning-relax', version=1)\n",
    "\n",
    "### Lentos\n",
    "# X = skdata.load_digits()                                                # (1797, 64)   \n",
    "# X = skdata.fetch_openml(name='phoneme', version=1)                      # (5404, 5)     \n",
    "# X = skdata.fetch_openml(name='Bioresponse', version=1)                  # (3751, 1776) \n",
    "# X = skdata.fetch_openml(name='optdigits', version=1)                    # (5620, 64)   \n",
    "# X = skdata.fetch_openml(name='satimage', version=1)                     # (6430, 36)   \n",
    "\n",
    "y = X['target']\n",
    "X = X['data']\n",
    "k = len(np.unique(y)) # Number of unique labels\n",
    "n, m = X.shape # Number of observations and variables\n",
    "\n",
    "if type(X) == scipy.sparse._csr.csr_matrix:\n",
    "    X = X.todense()\n",
    "    X = np.asarray(X)\n",
    "else:\n",
    "    if not isinstance(X, np.ndarray):\n",
    "        cat_cols = X.select_dtypes(['category']).columns\n",
    "        X[cat_cols] = X[cat_cols].apply(lambda x: x.cat.codes)\n",
    "        X = X.to_numpy()\n",
    "        y = y.to_numpy()"
   ]
  },
  {
   "cell_type": "markdown",
   "metadata": {},
   "source": [
    "#### Converting labels into integers"
   ]
  },
  {
   "cell_type": "code",
   "execution_count": 5,
   "metadata": {},
   "outputs": [
    {
     "name": "stdout",
     "output_type": "stream",
     "text": [
      "['Colon' 'Prostate']\n",
      "Number of unique labels: 2\n"
     ]
    }
   ],
   "source": [
    "print(np.unique(y))\n",
    "print('Number of unique labels: {}'.format(k))"
   ]
  },
  {
   "cell_type": "code",
   "execution_count": 6,
   "metadata": {},
   "outputs": [],
   "source": [
    "labels = list(np.unique(y))\n",
    "numbers = np.zeros(n)\n",
    "for i in range(n):\n",
    "    numbers[i] = labels.index(y[i])"
   ]
  },
  {
   "cell_type": "markdown",
   "metadata": {},
   "source": [
    "#### Topological K-means implementation"
   ]
  },
  {
   "cell_type": "code",
   "execution_count": 7,
   "metadata": {},
   "outputs": [],
   "source": [
    "def centroid_distances(G, coord_centroids):\n",
    "    distances = []\n",
    "    for i in coord_centroids:\n",
    "        D = nx.single_source_dijkstra(G, i)[0]\n",
    "        temp = np.ones(n) * np.inf\n",
    "        for j in D.keys():\n",
    "            temp[j] = D[j]\n",
    "        distances.append(temp)\n",
    "\n",
    "    return np.array(distances)\n",
    "\n",
    "def TopologicalKMeans(X):\n",
    "    n_sqrt = round(np.sqrt(n))\n",
    "    \n",
    "    coord_centroids = np.random.choice(n, size=k, replace=False)\n",
    "    centroids = X[coord_centroids] # Randomly chosen observations as centroids\n",
    "\n",
    "    iteration = 0\n",
    "    while iteration < 10:\n",
    "        iteration += 1\n",
    "        \n",
    "        knnGraph = sknn.kneighbors_graph(X, n_neighbors=n_sqrt, mode='distance') # KNN graph\n",
    "        W = knnGraph.toarray() # Adjacency matrix\n",
    "        \n",
    "        G = nx.from_numpy_array(W) # NetworkX graph\n",
    "        distances = centroid_distances(G,coord_centroids) # Geodesic distances from each centroid to all observations\n",
    "\n",
    "        geo_labels = np.zeros(n) # Array for labels\n",
    "        for j in range(n):\n",
    "            geo_labels[j] = distances[:, j].argmin() # Updating labels\n",
    "        \n",
    "        new_centroids = np.zeros((k, m))\n",
    "        for r in range(k):\n",
    "            indices = np.where(geo_labels==r)[0]\n",
    "            \n",
    "            if len(indices) > 0:\n",
    "                sample = X[indices]\n",
    "                new_centroids[r, :] = sample.mean(axis=0)\n",
    "            else:\n",
    "                new_centroids[r, :] = centroids[r, :]\n",
    "        \n",
    "        if (np.linalg.norm(centroids - new_centroids) < 0.05):\n",
    "            break\n",
    "\n",
    "        centroids = new_centroids.copy() # Updated centroids\n",
    "    \n",
    "    return geo_labels"
   ]
  },
  {
   "cell_type": "markdown",
   "metadata": {},
   "source": [
    "#### Comparação dos algoritmos"
   ]
  },
  {
   "cell_type": "code",
   "execution_count": 8,
   "metadata": {},
   "outputs": [],
   "source": [
    "def kmeans_exec(X, iterations:int, mode='classical'):\n",
    "    if mode not in ['classical','topological']:\n",
    "        raise ValueError(\"Mode argument must be 'classical' or 'topological'.\")\n",
    "\n",
    "    rand_list, sc_list, ami_list, ch_list, fm_list, db_list = [], [], [], [], [], []\n",
    "    start_time = time.time()\n",
    "    \n",
    "    if mode == 'classical':\n",
    "        for i in range(1, iterations+1):\n",
    "            if (i == 1) or (i % 5 == 0):\n",
    "                print('Iteration: {}/{}'.format(i, iterations))\n",
    "            kmeans = KMeans(n_clusters=k, init='random', n_init=1).fit(X)\n",
    "            labels = kmeans.labels_\n",
    "            rand_list.append(rand_score(numbers, kmeans.labels_))\n",
    "            ami_list.append(adjusted_mutual_info_score(numbers, kmeans.labels_))\n",
    "            fm_list.append(fowlkes_mallows_score(numbers, kmeans.labels_))\n",
    "            sc_list.append(silhouette_score(X, kmeans.labels_))\n",
    "            ch_list.append(calinski_harabasz_score(X, kmeans.labels_))\n",
    "            db_list.append(davies_bouldin_score(X, kmeans.labels_))\n",
    "        \n",
    "        print()\n",
    "        print('Classical K-means')\n",
    "    \n",
    "    else:\n",
    "        for i in range(1, iterations+1):\n",
    "            if (i == 1) or (i % 5 == 0):\n",
    "                print('Iteration: {}/{}'.format(i, iterations))\n",
    "            labels = TopologicalKMeans(X)\n",
    "            rand_list.append(rand_score(numbers, labels))\n",
    "            ami_list.append(adjusted_mutual_info_score(numbers, labels))\n",
    "            fm_list.append(fowlkes_mallows_score(numbers, labels))\n",
    "            sc_list.append(silhouette_score(X, labels))\n",
    "            ch_list.append(calinski_harabasz_score(X, labels))\n",
    "            db_list.append(davies_bouldin_score(X, labels))\n",
    "\n",
    "        print()\n",
    "        print('Topological K-means')\n",
    "    \n",
    "    end_time = time.time()\n",
    "    print('Elapsed time: %.4f' %(end_time - start_time))\n",
    "    print()\n",
    "    print('Average Rand score: %.4f' %(np.mean(rand_list)))             # Upper bound of 1\n",
    "    print('Average AMI score: %.4f' %(np.mean(ami_list)))               # Upper bound of 1\n",
    "    print('Average Fowlkes-Mallows score: %.4f' %(np.mean(fm_list)))    # Upper bound of 1"
   ]
  },
  {
   "cell_type": "markdown",
   "metadata": {},
   "source": [
    "##### Classical K-means"
   ]
  },
  {
   "cell_type": "code",
   "execution_count": 9,
   "metadata": {},
   "outputs": [
    {
     "name": "stdout",
     "output_type": "stream",
     "text": [
      "Iteration: 1/30\n",
      "Iteration: 5/30\n",
      "Iteration: 10/30\n",
      "Iteration: 15/30\n",
      "Iteration: 20/30\n",
      "Iteration: 25/30\n",
      "Iteration: 30/30\n",
      "\n",
      "Classical K-means\n",
      "Elapsed time: 6.2165\n",
      "\n",
      "Average Rand score: 0.5369\n",
      "Average AMI score: 0.0887\n",
      "Average Fowlkes-Mallows score: 0.6168\n"
     ]
    }
   ],
   "source": [
    "kmeans_exec(X, 30, mode='classical')"
   ]
  },
  {
   "cell_type": "markdown",
   "metadata": {},
   "source": [
    "##### Topological K-means"
   ]
  },
  {
   "cell_type": "code",
   "execution_count": null,
   "metadata": {},
   "outputs": [
    {
     "name": "stdout",
     "output_type": "stream",
     "text": [
      "Iteration: 1/30\n",
      "Iteration: 5/30\n"
     ]
    }
   ],
   "source": [
    "kmeans_exec(X, 30, mode='topological')"
   ]
  }
 ],
 "metadata": {
  "kernelspec": {
   "display_name": "Python 3",
   "language": "python",
   "name": "python3"
  },
  "language_info": {
   "codemirror_mode": {
    "name": "ipython",
    "version": 3
   },
   "file_extension": ".py",
   "mimetype": "text/x-python",
   "name": "python",
   "nbconvert_exporter": "python",
   "pygments_lexer": "ipython3",
   "version": "3.10.11"
  }
 },
 "nbformat": 4,
 "nbformat_minor": 2
}
